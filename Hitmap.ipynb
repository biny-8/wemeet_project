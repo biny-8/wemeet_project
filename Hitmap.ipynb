{
  "nbformat": 4,
  "nbformat_minor": 0,
  "metadata": {
    "colab": {
      "provenance": [],
      "authorship_tag": "ABX9TyNIC73vgIqtZ9TjABNbvi2k",
      "include_colab_link": true
    },
    "kernelspec": {
      "name": "python3",
      "display_name": "Python 3"
    },
    "language_info": {
      "name": "python"
    }
  },
  "cells": [
    {
      "cell_type": "markdown",
      "metadata": {
        "id": "view-in-github",
        "colab_type": "text"
      },
      "source": [
        "<a href=\"https://colab.research.google.com/github/biny-8/wemeet_project/blob/main/Hitmap.ipynb\" target=\"_parent\"><img src=\"https://colab.research.google.com/assets/colab-badge.svg\" alt=\"Open In Colab\"/></a>"
      ]
    },
    {
      "cell_type": "code",
      "source": [
        "import folium\n",
        "from folium.plugins import HeatMap\n",
        "import pandas as pd\n",
        "\n",
        "seoul_map = folium.Map(location=[37.5665, 126.9780], zoom_start=12)\n",
        "\n",
        "wifi_data = pd.read_csv('count_wifi_loc.csv')\n",
        "\n",
        "heat_data = []\n",
        "for index, entry in wifi_data.iterrows():\n",
        "    lat, lon = entry['Latitude'], entry['Longitude']\n",
        "    for i in range(3, 9):\n",
        "        heat_data.append([lat, lon, entry.iloc[i]])\n",
        "\n",
        "HeatMap(heat_data).add_to(seoul_map)\n",
        "\n",
        "seoul_map.save(\"seoul_wifi_heatmap_example.html\")"
      ],
      "metadata": {
        "id": "pfHE83NfM5dW"
      },
      "execution_count": 2,
      "outputs": []
    },
    {
      "cell_type": "code",
      "source": [],
      "metadata": {
        "id": "-bjnlGBDblAH"
      },
      "execution_count": null,
      "outputs": []
    }
  ]
}